{
 "cells": [
  {
   "cell_type": "code",
   "execution_count": 2,
   "metadata": {},
   "outputs": [],
   "source": [
    "import pandas as pd\n",
    "import pyreadr"
   ]
  },
  {
   "cell_type": "code",
   "execution_count": 4,
   "metadata": {},
   "outputs": [
    {
     "ename": "LibrdataError",
     "evalue": "The file contains an unrecognized object",
     "output_type": "error",
     "traceback": [
      "\u001b[0;31m---------------------------------------------------------------------------\u001b[0m",
      "\u001b[0;31mLibrdataError\u001b[0m                             Traceback (most recent call last)",
      "Cell \u001b[0;32mIn [4], line 6\u001b[0m\n\u001b[1;32m      3\u001b[0m dst_path \u001b[39m=\u001b[39m \u001b[39m'\u001b[39m\u001b[39mbronx.rds\u001b[39m\u001b[39m'\u001b[39m\n\u001b[1;32m      5\u001b[0m pyreadr\u001b[39m.\u001b[39mdownload_file(url,dst_path)\n\u001b[0;32m----> 6\u001b[0m res \u001b[39m=\u001b[39m pyreadr\u001b[39m.\u001b[39;49mread_r(dst_path)\n\u001b[1;32m      7\u001b[0m res\n",
      "File \u001b[0;32m~/.pyenv/versions/3.11.0rc2/lib/python3.11/site-packages/pyreadr/pyreadr.py:66\u001b[0m, in \u001b[0;36mread_r\u001b[0;34m(path, use_objects, timezone)\u001b[0m\n\u001b[1;32m     64\u001b[0m \u001b[39mif\u001b[39;00m \u001b[39mnot\u001b[39;00m os\u001b[39m.\u001b[39mpath\u001b[39m.\u001b[39misfile(filename_bytes):\n\u001b[1;32m     65\u001b[0m     \u001b[39mraise\u001b[39;00m PyreadrError(\u001b[39m\"\u001b[39m\u001b[39mFile \u001b[39m\u001b[39m{0}\u001b[39;00m\u001b[39m does not exist!\u001b[39m\u001b[39m\"\u001b[39m\u001b[39m.\u001b[39mformat(filename_bytes))\n\u001b[0;32m---> 66\u001b[0m parser\u001b[39m.\u001b[39;49mparse(filename_bytes)\n\u001b[1;32m     68\u001b[0m result \u001b[39m=\u001b[39m OrderedDict()\n\u001b[1;32m     69\u001b[0m \u001b[39mfor\u001b[39;00m table_index, table \u001b[39min\u001b[39;00m \u001b[39menumerate\u001b[39m(parser\u001b[39m.\u001b[39mtable_data):\n",
      "File \u001b[0;32m~/.pyenv/versions/3.11.0rc2/lib/python3.11/site-packages/pyreadr/librdata.pyx:148\u001b[0m, in \u001b[0;36mpyreadr.librdata.Parser.parse\u001b[0;34m()\u001b[0m\n",
      "File \u001b[0;32m~/.pyenv/versions/3.11.0rc2/lib/python3.11/site-packages/pyreadr/librdata.pyx:177\u001b[0m, in \u001b[0;36mpyreadr.librdata.Parser.parse\u001b[0;34m()\u001b[0m\n",
      "\u001b[0;31mLibrdataError\u001b[0m: The file contains an unrecognized object"
     ]
    }
   ],
   "source": [
    "url = 'https://nwis.waterservices.usgs.gov/nwis/iv/?sites=01302020&parameterCd=90860&startDT=2021-03-04T00:00:00.000-05:00&endDT=2023-02-27T23:59:59.999-05:00&siteStatus=all&format=rdb'\n",
    "\n",
    "dst_path = 'bronx.rdb'\n",
    "\n",
    "pyreadr.download_file(url,dst_path)\n"
   ]
  },
  {
   "cell_type": "code",
   "execution_count": 2,
   "metadata": {},
   "outputs": [
    {
     "ename": "PyreadrError",
     "evalue": "File b'https://nwis.waterservices.usgs.gov/nwis/iv/?sites=01302020&parameterCd=90860&startDT=2021-03-04T00:00:00.000-05:00&endDT=2023-02-27T23:59:59.999-05:00&siteStatus=all&format=rdb' does not exist!",
     "output_type": "error",
     "traceback": [
      "\u001b[0;31m---------------------------------------------------------------------------\u001b[0m",
      "\u001b[0;31mPyreadrError\u001b[0m                              Traceback (most recent call last)",
      "Cell \u001b[0;32mIn [2], line 1\u001b[0m\n\u001b[0;32m----> 1\u001b[0m result \u001b[39m=\u001b[39m pyreadr\u001b[39m.\u001b[39;49mread_r(\u001b[39m'\u001b[39;49m\u001b[39mhttps://nwis.waterservices.usgs.gov/nwis/iv/?sites=01302020&parameterCd=90860&startDT=2021-03-04T00:00:00.000-05:00&endDT=2023-02-27T23:59:59.999-05:00&siteStatus=all&format=rdb\u001b[39;49m\u001b[39m'\u001b[39;49m)\n\u001b[1;32m      3\u001b[0m result\n",
      "File \u001b[0;32m~/.pyenv/versions/3.11.0rc2/lib/python3.11/site-packages/pyreadr/pyreadr.py:65\u001b[0m, in \u001b[0;36mread_r\u001b[0;34m(path, use_objects, timezone)\u001b[0m\n\u001b[1;32m     63\u001b[0m filename_bytes \u001b[39m=\u001b[39m os\u001b[39m.\u001b[39mpath\u001b[39m.\u001b[39mexpanduser(filename_bytes)\n\u001b[1;32m     64\u001b[0m \u001b[39mif\u001b[39;00m \u001b[39mnot\u001b[39;00m os\u001b[39m.\u001b[39mpath\u001b[39m.\u001b[39misfile(filename_bytes):\n\u001b[0;32m---> 65\u001b[0m     \u001b[39mraise\u001b[39;00m PyreadrError(\u001b[39m\"\u001b[39m\u001b[39mFile \u001b[39m\u001b[39m{0}\u001b[39;00m\u001b[39m does not exist!\u001b[39m\u001b[39m\"\u001b[39m\u001b[39m.\u001b[39mformat(filename_bytes))\n\u001b[1;32m     66\u001b[0m parser\u001b[39m.\u001b[39mparse(filename_bytes)\n\u001b[1;32m     68\u001b[0m result \u001b[39m=\u001b[39m OrderedDict()\n",
      "\u001b[0;31mPyreadrError\u001b[0m: File b'https://nwis.waterservices.usgs.gov/nwis/iv/?sites=01302020&parameterCd=90860&startDT=2021-03-04T00:00:00.000-05:00&endDT=2023-02-27T23:59:59.999-05:00&siteStatus=all&format=rdb' does not exist!"
     ]
    }
   ],
   "source": [
    "result = pyreadr.read_r('https://nwis.waterservices.usgs.gov/nwis/iv/?sites=01302020&parameterCd=90860&startDT=2021-03-04T00:00:00.000-05:00&endDT=2023-02-27T23:59:59.999-05:00&siteStatus=all&format=rdb')\n",
    "\n",
    "result"
   ]
  },
  {
   "cell_type": "code",
   "execution_count": null,
   "metadata": {},
   "outputs": [],
   "source": []
  }
 ],
 "metadata": {
  "kernelspec": {
   "display_name": "Python 3",
   "language": "python",
   "name": "python3"
  },
  "language_info": {
   "codemirror_mode": {
    "name": "ipython",
    "version": 3
   },
   "file_extension": ".py",
   "mimetype": "text/x-python",
   "name": "python",
   "nbconvert_exporter": "python",
   "pygments_lexer": "ipython3",
   "version": "3.11.0rc2"
  },
  "orig_nbformat": 4,
  "vscode": {
   "interpreter": {
    "hash": "9310617becc77a51d3996151d99f92e176b18c97b2a700a381ac765b5e0e789b"
   }
  }
 },
 "nbformat": 4,
 "nbformat_minor": 2
}
