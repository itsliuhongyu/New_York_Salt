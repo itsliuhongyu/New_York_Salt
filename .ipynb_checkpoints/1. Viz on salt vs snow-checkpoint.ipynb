{
 "cells": [
  {
   "cell_type": "code",
   "execution_count": 170,
   "id": "8d4019d0",
   "metadata": {},
   "outputs": [
    {
     "name": "stdout",
     "output_type": "stream",
     "text": [
      "The rpy2.ipython extension is already loaded. To reload it, use:\n",
      "  %reload_ext rpy2.ipython\n",
      "The autoreload extension is already loaded. To reload it, use:\n",
      "  %reload_ext autoreload\n"
     ]
    }
   ],
   "source": [
    "%load_ext rpy2.ipython\n",
    "%load_ext autoreload\n",
    "%autoreload 2\n",
    "\n",
    "%matplotlib inline  \n",
    "from matplotlib import rcParams\n",
    "rcParams['figure.figsize'] = (16, 100)\n",
    "\n",
    "import warnings\n",
    "from rpy2.rinterface import RRuntimeWarning\n",
    "warnings.filterwarnings(\"ignore\") # Ignore all warnings\n",
    "# warnings.filterwarnings(\"ignore\", category=RRuntimeWarning) # Show some warnings\n",
    "\n",
    "import pandas as pd\n",
    "import numpy as np\n",
    "import matplotlib.pyplot as plt\n",
    "from IPython.display import display, HTML"
   ]
  },
  {
   "cell_type": "code",
   "execution_count": 171,
   "id": "3dd9b517",
   "metadata": {},
   "outputs": [
    {
     "data": {
      "application/javascript": [
       "// Disable auto-scrolling\n",
       "IPython.OutputArea.prototype._should_scroll = function(lines) {\n",
       "    return false;\n",
       "}\n"
      ],
      "text/plain": [
       "<IPython.core.display.Javascript object>"
      ]
     },
     "metadata": {},
     "output_type": "display_data"
    }
   ],
   "source": [
    "%%javascript\n",
    "// Disable auto-scrolling\n",
    "IPython.OutputArea.prototype._should_scroll = function(lines) {\n",
    "    return false;\n",
    "}"
   ]
  },
  {
   "cell_type": "code",
   "execution_count": 172,
   "id": "a367dc5e",
   "metadata": {},
   "outputs": [],
   "source": [
    "%%R\n",
    "\n",
    "# My commonly used R imports\n",
    "\n",
    "require('tidyverse')\n",
    "library(ggbump)\n",
    "library(ggbeeswarm)"
   ]
  },
  {
   "cell_type": "code",
   "execution_count": 173,
   "id": "f641611d",
   "metadata": {},
   "outputs": [
    {
     "name": "stdout",
     "output_type": "stream",
     "text": [
      "# A tibble: 4 × 8\n",
      "  `DSNY Storm #` `Date of Report` Manhattan Bronx Brook…¹ Queens State…² Total…³\n",
      "  <chr>          <date>               <dbl> <dbl>   <dbl>  <dbl>   <dbl>   <dbl>\n",
      "1 Storm 1        2016-01-19            1111  2059    2690   6625    2931   15416\n",
      "2 Storm 2        2016-01-23            2919  4567    5521   9253    4264   26524\n",
      "3 Storm 2        2016-01-24            6582  8167   12290  17133    5411   49583\n",
      "4 Storm 2        2016-01-25            3862  4094    6217  10236    1256   25665\n",
      "# … with abbreviated variable names ¹​Brooklyn, ²​`Staten Island`, ³​`Total Tons`\n"
     ]
    }
   ],
   "source": [
    "%%R\n",
    " \n",
    "# Import data with R\n",
    "salt <- read_csv('./data/DSNY_Salt_Usage.csv', show_col_types = FALSE)\n",
    "salt$`Date of Report` <- as.Date(salt$`Date of Report`, format = \"%m/%d/%Y\")\n",
    "salt %>% head(4)"
   ]
  },
  {
   "cell_type": "code",
   "execution_count": 174,
   "id": "107bbf89",
   "metadata": {},
   "outputs": [
    {
     "name": "stdout",
     "output_type": "stream",
     "text": [
      "# A tibble: 4 × 9\n",
      "  STATION     NAME          LATIT…¹ LONGI…² ELEVA…³ DATE        PRCP  SNOW  SNWD\n",
      "  <chr>       <chr>           <dbl>   <dbl>   <dbl> <date>     <dbl> <dbl> <dbl>\n",
      "1 USW00094728 NY CITY CENT…    40.8   -74.0    42.7 2016-01-01     0     0     0\n",
      "2 USW00094728 NY CITY CENT…    40.8   -74.0    42.7 2016-01-02     0     0     0\n",
      "3 USW00094728 NY CITY CENT…    40.8   -74.0    42.7 2016-01-03     0     0     0\n",
      "4 USW00094728 NY CITY CENT…    40.8   -74.0    42.7 2016-01-04     0     0     0\n",
      "# … with abbreviated variable names ¹​LATITUDE, ²​LONGITUDE, ³​ELEVATION\n"
     ]
    }
   ],
   "source": [
    "%%R\n",
    " \n",
    "# Import data with R\n",
    "snow <- read_csv('./data/NYC_snow.csv', show_col_types = FALSE)\n",
    "snow %>% head(4)"
   ]
  },
  {
   "cell_type": "markdown",
   "id": "4ebf69d1",
   "metadata": {},
   "source": [
    "# 2016 - 2017"
   ]
  },
  {
   "cell_type": "code",
   "execution_count": 175,
   "id": "e508b8d4",
   "metadata": {},
   "outputs": [
    {
     "name": "stdout",
     "output_type": "stream",
     "text": [
      "Saving 4.17 x 5.56 in image\n"
     ]
    }
   ],
   "source": [
    "%%R -w 300 -h 400\n",
    "\n",
    "ggplot(salt, aes(x = `Date of Report`, y = `Total Tons`)) +\n",
    "  geom_bar(stat = \"identity\", fill = \"#FF6600\") +\n",
    "  ylab(\"Total Tons\") +\n",
    "  scale_x_date(limits = as.Date(c(\"2016-11-30\", \"2017-03-31\")), date_labels = \"%m/%d/%Y\") +\n",
    "  theme_minimal()\n",
    "\n",
    "ggsave(\"./groupchart/2016salt.pdf\")"
   ]
  },
  {
   "cell_type": "code",
   "execution_count": 176,
   "id": "0dd629a1",
   "metadata": {},
   "outputs": [
    {
     "name": "stdout",
     "output_type": "stream",
     "text": [
      "Saving 4.17 x 5.56 in image\n"
     ]
    }
   ],
   "source": [
    "%%R -w 300 -h 400\n",
    "\n",
    "ggplot(snow, aes(x = DATE, y = SNWD)) +\n",
    "  geom_bar(stat = \"identity\", fill = \"#99CCFF\") +\n",
    "  ylab(\"Total Tons\") +\n",
    "  scale_x_date(limits = as.Date(c(\"2016-11-30\", \"2017-03-31\"))) +\n",
    "  theme_minimal()\n",
    "\n",
    "ggsave(\"./groupchart/2016snow.pdf\")"
   ]
  },
  {
   "cell_type": "markdown",
   "id": "431bfccf",
   "metadata": {},
   "source": [
    "# 2017 - 2018"
   ]
  },
  {
   "cell_type": "code",
   "execution_count": 177,
   "id": "d721e83f",
   "metadata": {},
   "outputs": [
    {
     "name": "stdout",
     "output_type": "stream",
     "text": [
      "Saving 4.17 x 5.56 in image\n"
     ]
    }
   ],
   "source": [
    "%%R -w 300 -h 400\n",
    "\n",
    "ggplot(salt, aes(x = `Date of Report`, y = `Total Tons`)) +\n",
    "  geom_bar(stat = \"identity\", fill = \"#FF6600\") +\n",
    "  ylab(\"Total Tons\") +\n",
    "  scale_x_date(limits = as.Date(c(\"2017-11-30\", \"2018-03-31\")), date_labels = \"%m/%d/%Y\") +\n",
    "  theme_minimal()\n",
    "\n",
    "ggsave(\"./groupchart/2017salt.pdf\")"
   ]
  },
  {
   "cell_type": "code",
   "execution_count": 178,
   "id": "e86a081c",
   "metadata": {},
   "outputs": [
    {
     "name": "stdout",
     "output_type": "stream",
     "text": [
      "Saving 4.17 x 5.56 in image\n"
     ]
    }
   ],
   "source": [
    "%%R -w 300 -h 400\n",
    "\n",
    "ggplot(snow, aes(x = DATE, y = SNWD)) +\n",
    "  geom_bar(stat = \"identity\", fill = \"#99CCFF\") +\n",
    "  ylab(\"Total Tons\") +\n",
    "  scale_x_date(limits = as.Date(c(\"2017-11-30\", \"2018-03-31\"))) +\n",
    "  theme_minimal()\n",
    "\n",
    "ggsave(\"./groupchart/2017snow.pdf\")"
   ]
  },
  {
   "cell_type": "markdown",
   "id": "9ce8a767",
   "metadata": {},
   "source": [
    "# 2018 - 2019"
   ]
  },
  {
   "cell_type": "code",
   "execution_count": 179,
   "id": "35be3703",
   "metadata": {},
   "outputs": [
    {
     "name": "stdout",
     "output_type": "stream",
     "text": [
      "Saving 4.17 x 5.56 in image\n"
     ]
    }
   ],
   "source": [
    "%%R -w 300 -h 400\n",
    "\n",
    "ggplot(salt, aes(x = `Date of Report`, y = `Total Tons`)) +\n",
    "  geom_bar(stat = \"identity\", fill = \"#FF6600\") +\n",
    "  ylab(\"Total Tons\") +\n",
    "  scale_x_date(limits = as.Date(c(\"2018-11-30\", \"2019-03-31\")), date_labels = \"%m/%d/%Y\") +\n",
    "  scale_y_continuous(breaks = c(20000, 40000), limits = c(0, 50000)) +\n",
    "  theme_minimal() +\n",
    "  xlab(NULL) + ylab(NULL)\n",
    "\n",
    "ggsave(\"./groupchart/2018salt.pdf\")"
   ]
  },
  {
   "cell_type": "code",
   "execution_count": 180,
   "id": "69a1d719",
   "metadata": {},
   "outputs": [
    {
     "name": "stdout",
     "output_type": "stream",
     "text": [
      "Saving 4.17 x 5.56 in image\n"
     ]
    }
   ],
   "source": [
    "%%R -w 300 -h 400\n",
    "\n",
    "ggplot(snow, aes(x = DATE, y = SNWD)) +\n",
    "  geom_bar(stat = \"identity\", fill = \"#99CCFF\") +\n",
    "  ylab(\"Total Tons\") +\n",
    "  scale_x_date(limits = as.Date(c(\"2018-11-30\", \"2019-03-31\"))) +\n",
    "  scale_y_continuous(breaks = c(2, 4, 6, 8, 10, 12, 14), limits = c(0, 14)) +\n",
    "  theme_minimal() +\n",
    "  xlab(NULL) + ylab(NULL)\n",
    "\n",
    "\n",
    "ggsave(\"./groupchart/2018snow.pdf\")"
   ]
  },
  {
   "cell_type": "markdown",
   "id": "61a2215f",
   "metadata": {},
   "source": [
    "# 2019 - 2020"
   ]
  },
  {
   "cell_type": "code",
   "execution_count": 181,
   "id": "41287668",
   "metadata": {},
   "outputs": [
    {
     "name": "stdout",
     "output_type": "stream",
     "text": [
      "Saving 4.17 x 5.56 in image\n"
     ]
    }
   ],
   "source": [
    "%%R -w 300 -h 400\n",
    "\n",
    "ggplot(salt, aes(x = `Date of Report`, y = `Total Tons`)) +\n",
    "  geom_bar(stat = \"identity\", fill = \"#FF6600\") +\n",
    "  ylab(\"Total Tons\") +\n",
    "  scale_x_date(limits = as.Date(c(\"2019-11-30\", \"2020-03-31\")), date_labels = \"%m/%d/%Y\") +\n",
    "  scale_y_continuous(breaks = c(20000, 40000), limits = c(0, 50000)) +\n",
    "  theme_minimal() +\n",
    "  xlab(NULL) + ylab(NULL)\n",
    "\n",
    "ggsave(\"./groupchart/2019salt.pdf\")"
   ]
  },
  {
   "cell_type": "code",
   "execution_count": 182,
   "id": "2cdf5880",
   "metadata": {},
   "outputs": [
    {
     "name": "stdout",
     "output_type": "stream",
     "text": [
      "Saving 4.17 x 5.56 in image\n"
     ]
    }
   ],
   "source": [
    "%%R -w 300 -h 400\n",
    "\n",
    "ggplot(snow, aes(x = DATE, y = SNWD)) +\n",
    "  geom_bar(stat = \"identity\", fill = \"#99CCFF\") +\n",
    "  ylab(\"Total Tons\") +\n",
    "  scale_x_date(limits = as.Date(c(\"2019-11-30\", \"2020-03-31\"))) +\n",
    "  scale_y_continuous(breaks = c(2, 4, 6, 8, 10, 12, 14), limits = c(0, 14)) +\n",
    "  theme_minimal() +\n",
    "  xlab(NULL) + ylab(NULL)\n",
    "\n",
    "ggsave(\"./groupchart/2019snow.pdf\")"
   ]
  },
  {
   "cell_type": "markdown",
   "id": "9f671ee4",
   "metadata": {},
   "source": [
    "# 2020 - 2021"
   ]
  },
  {
   "cell_type": "code",
   "execution_count": 183,
   "id": "583887cd",
   "metadata": {},
   "outputs": [
    {
     "name": "stdout",
     "output_type": "stream",
     "text": [
      "Saving 4.17 x 5.56 in image\n"
     ]
    }
   ],
   "source": [
    "%%R -w 300 -h 400\n",
    "\n",
    "ggplot(salt, aes(x = `Date of Report`, y = `Total Tons`)) +\n",
    "  geom_bar(stat = \"identity\", fill = \"#FF6600\") +\n",
    "  ylab(\"Total Tons\") +\n",
    "  scale_x_date(limits = as.Date(c(\"2020-11-30\", \"2021-03-31\")), date_labels = \"%m/%d/%Y\") +\n",
    "  scale_y_continuous(breaks = c(20000, 40000), limits = c(0, 50000)) +\n",
    "  theme_minimal() +\n",
    "  xlab(NULL) + ylab(NULL)\n",
    "\n",
    "ggsave(\"./groupchart/2020salt.pdf\")"
   ]
  },
  {
   "cell_type": "code",
   "execution_count": 184,
   "id": "596f6a83",
   "metadata": {},
   "outputs": [
    {
     "name": "stdout",
     "output_type": "stream",
     "text": [
      "Saving 4.17 x 5.56 in image\n"
     ]
    }
   ],
   "source": [
    "%%R -w 300 -h 400\n",
    "\n",
    "ggplot(snow, aes(x = DATE, y = SNWD)) +\n",
    "  geom_bar(stat = \"identity\", fill = \"#99CCFF\") +\n",
    "  ylab(\"Total Tons\") +\n",
    "  scale_x_date(limits = as.Date(c(\"2020-11-30\", \"2021-03-31\"))) +\n",
    "  scale_y_continuous(breaks = c(2, 4, 6, 8, 10, 12, 14)) +\n",
    "  theme_minimal() +\n",
    "  xlab(NULL) + ylab(NULL)\n",
    "\n",
    "\n",
    "ggsave(\"./groupchart/2020snow.pdf\")"
   ]
  },
  {
   "cell_type": "markdown",
   "id": "0709864e",
   "metadata": {},
   "source": [
    "# 2021 - 2022"
   ]
  },
  {
   "cell_type": "code",
   "execution_count": 185,
   "id": "92af006b",
   "metadata": {},
   "outputs": [
    {
     "name": "stdout",
     "output_type": "stream",
     "text": [
      "Saving 4.17 x 5.56 in image\n"
     ]
    }
   ],
   "source": [
    "%%R -w 300 -h 400\n",
    "\n",
    "ggplot(salt, aes(x = `Date of Report`, y = `Total Tons`)) +\n",
    "  geom_bar(stat = \"identity\", fill = \"#FF6600\") +\n",
    "  ylab(\"Total Tons\") +\n",
    "  scale_x_date(limits = as.Date(c(\"2021-11-30\", \"2022-03-31\")), date_labels = \"%m/%d/%Y\") +\n",
    "  scale_y_continuous(breaks = c(20000, 40000), limits = c(0, 50000)) +\n",
    "  theme_minimal() +\n",
    "  xlab(NULL) + ylab(NULL)\n",
    "\n",
    "ggsave(\"./groupchart/2021salt.pdf\")"
   ]
  },
  {
   "cell_type": "code",
   "execution_count": 186,
   "id": "92f4469e",
   "metadata": {},
   "outputs": [
    {
     "name": "stdout",
     "output_type": "stream",
     "text": [
      "Saving 4.17 x 5.56 in image\n"
     ]
    }
   ],
   "source": [
    "%%R -w 300 -h 400\n",
    "\n",
    "\n",
    "ggplot(snow, aes(x = DATE, y = SNWD)) +\n",
    "  geom_bar(stat = \"identity\", fill = \"#99CCFF\") +\n",
    "  ylab(\"Total Tons\") +\n",
    "  scale_x_date(limits = as.Date(c(\"2021-11-30\", \"2022-03-31\"))) +\n",
    "  scale_y_continuous(breaks = c(2, 4, 6, 8, 10, 12, 14), limits = c(0, 14)) +\n",
    "  theme_minimal() +\n",
    "  xlab(NULL) + ylab(NULL)\n",
    "\n",
    "ggsave(\"./groupchart/2021snow.pdf\")"
   ]
  },
  {
   "cell_type": "code",
   "execution_count": null,
   "id": "b5fa7544",
   "metadata": {},
   "outputs": [],
   "source": []
  },
  {
   "cell_type": "code",
   "execution_count": 168,
   "id": "1d1b43d0",
   "metadata": {},
   "outputs": [
    {
     "name": "stdout",
     "output_type": "stream",
     "text": [
      "Saving 16.7 x 11.1 in image\n"
     ]
    },
    {
     "data": {
      "image/png": "[encoded data removed]"
     },
     "metadata": {},
     "output_type": "display_data"
    }
   ],
   "source": [
    "%%R -w 1200 -h 800\n",
    "\n",
    "library(gridExtra)\n",
    "\n",
    "# Create plot\n",
    "p1 <- ggplot(snow, aes(x = DATE, y = SNWD)) +\n",
    "  geom_bar(stat = \"identity\", fill = \"#99CCFF\") +\n",
    "  ylab(\"Total Tons\") +\n",
    "  scale_x_date(limits = as.Date(c(\"2018-11-30\", \"2019-03-31\"))) +\n",
    "  scale_y_continuous(breaks = c(2, 4, 6, 8, 10, 12, 14), limits = c(0, 14)) +\n",
    "  theme_minimal() +\n",
    "  xlab(NULL) + ylab(NULL)\n",
    "\n",
    "# Create plot\n",
    "p2 <- ggplot(snow, aes(x = DATE, y = SNWD)) +\n",
    "  geom_bar(stat = \"identity\", fill = \"#99CCFF\") +\n",
    "  ylab(\"Total Tons\") +\n",
    "  scale_x_date(limits = as.Date(c(\"2019-11-30\", \"2020-03-31\"))) +\n",
    "  scale_y_continuous(breaks = c(2, 4, 6, 8, 10, 12, 14), limits = c(0, 14)) +\n",
    "  theme_minimal() +\n",
    "  xlab(NULL) + ylab(NULL)\n",
    "\n",
    "# Create plot\n",
    "p3 <- ggplot(snow, aes(x = DATE, y = SNWD)) +\n",
    "  geom_bar(stat = \"identity\", fill = \"#99CCFF\") +\n",
    "  ylab(\"Total Tons\") +\n",
    "  scale_x_date(limits = as.Date(c(\"2020-11-30\", \"2021-03-31\"))) +\n",
    "  scale_y_continuous(breaks = c(2, 4, 6, 8, 10, 12, 14)) +\n",
    "  theme_minimal() +\n",
    "  xlab(NULL) + ylab(NULL)\n",
    "\n",
    "# Create plot\n",
    "p4 <- ggplot(snow, aes(x = DATE, y = SNWD)) +\n",
    "  geom_bar(stat = \"identity\", fill = \"#99CCFF\") +\n",
    "  ylab(\"Total Tons\") +\n",
    "  scale_x_date(limits = as.Date(c(\"2021-11-30\", \"2022-03-31\"))) +\n",
    "  scale_y_continuous(breaks = c(2, 4, 6, 8, 10, 12, 14), limits = c(0, 14)) +\n",
    "  theme_minimal() +\n",
    "  xlab(NULL) + ylab(NULL)\n",
    "\n",
    "# Display the plots side by side\n",
    "grid.arrange(p1, p2, p3, p4, ncol = 4)\n",
    "\n",
    "ggsave(\"./groupchart/allsnow.pdf\")\n"
   ]
  },
  {
   "cell_type": "code",
   "execution_count": 169,
   "id": "04db507c",
   "metadata": {},
   "outputs": [
    {
     "name": "stdout",
     "output_type": "stream",
     "text": [
      "Saving 16.7 x 11.1 in image\n"
     ]
    },
    {
     "data": {
      "image/png": "[encoded data removed]"
     },
     "metadata": {},
     "output_type": "display_data"
    }
   ],
   "source": [
    "%%R -w 1200 -h 800\n",
    "\n",
    "p1 <- ggplot(salt, aes(x = `Date of Report`, y = `Total Tons`)) +\n",
    "  geom_bar(stat = \"identity\", fill = \"#FF6600\") +\n",
    "  ylab(\"Total Tons\") +\n",
    "  scale_x_date(limits = as.Date(c(\"2018-11-30\", \"2019-03-31\")), date_labels = \"%m/%d/%Y\") +\n",
    "  scale_y_continuous(breaks = c(20000, 40000), limits = c(0, 50000)) +\n",
    "  theme_minimal() +\n",
    "  xlab(NULL) + ylab(NULL)\n",
    "\n",
    "p2 <- ggplot(salt, aes(x = `Date of Report`, y = `Total Tons`)) +\n",
    "  geom_bar(stat = \"identity\", fill = \"#FF6600\") +\n",
    "  ylab(\"Total Tons\") +\n",
    "  scale_x_date(limits = as.Date(c(\"2019-11-30\", \"2020-03-31\")), date_labels = \"%m/%d/%Y\") +\n",
    "  scale_y_continuous(breaks = c(20000, 40000), limits = c(0, 50000)) +\n",
    "  theme_minimal() +\n",
    "  xlab(NULL) + ylab(NULL)\n",
    "\n",
    "p3 <- ggplot(salt, aes(x = `Date of Report`, y = `Total Tons`)) +\n",
    "  geom_bar(stat = \"identity\", fill = \"#FF6600\") +\n",
    "  ylab(\"Total Tons\") +\n",
    "  scale_x_date(limits = as.Date(c(\"2020-11-30\", \"2021-03-31\")), date_labels = \"%m/%d/%Y\") +\n",
    "  scale_y_continuous(breaks = c(20000, 40000), limits = c(0, 50000)) +\n",
    "  theme_minimal() +\n",
    "  xlab(NULL) + ylab(NULL)\n",
    "\n",
    "p4 <- ggplot(salt, aes(x = `Date of Report`, y = `Total Tons`)) +\n",
    "  geom_bar(stat = \"identity\", fill = \"#FF6600\") +\n",
    "  ylab(\"Total Tons\") +\n",
    "  scale_x_date(limits = as.Date(c(\"2021-11-30\", \"2022-03-31\")), date_labels = \"%m/%d/%Y\") +\n",
    "  scale_y_continuous(breaks = c(20000, 40000), limits = c(0, 50000)) +\n",
    "  theme_minimal() +\n",
    "  xlab(NULL) + ylab(NULL)\n",
    "\n",
    "# Display the plots side by side\n",
    "grid.arrange(p1, p2, p3, p4, ncol = 4)\n",
    "\n",
    "ggsave(\"./groupchart/allsalt.pdf\")"
   ]
  },
  {
   "cell_type": "code",
   "execution_count": null,
   "id": "3a44eb13",
   "metadata": {},
   "outputs": [],
   "source": []
  },
  {
   "cell_type": "code",
   "execution_count": null,
   "id": "194b3adb",
   "metadata": {},
   "outputs": [],
   "source": []
  }
 ],
 "metadata": {
  "kernelspec": {
   "display_name": "Python 3 (ipykernel)",
   "language": "python",
   "name": "python3"
  },
  "language_info": {
   "codemirror_mode": {
    "name": "ipython",
    "version": 3
   },
   "file_extension": ".py",
   "mimetype": "text/x-python",
   "name": "python",
   "nbconvert_exporter": "python",
   "pygments_lexer": "ipython3",
   "version": "3.11.0rc2"
  }
 },
 "nbformat": 4,
 "nbformat_minor": 5
}
